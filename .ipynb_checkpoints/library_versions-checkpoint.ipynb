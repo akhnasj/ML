{
 "cells": [
  {
   "cell_type": "markdown",
   "id": "663551c1-b115-4610-8dcd-c6536d20ce01",
   "metadata": {},
   "source": [
    "## Check the versions of libraries"
   ]
  },
  {
   "cell_type": "code",
   "execution_count": 11,
   "id": "83a0c03c-9207-4643-b5ee-1c17e9467035",
   "metadata": {},
   "outputs": [
    {
     "name": "stdout",
     "output_type": "stream",
     "text": [
      "Python: 3.12.4 | packaged by Anaconda, Inc. | (main, Jun 18 2024, 15:03:56) [MSC v.1929 64 bit (AMD64)]\n",
      "Scipy : 1.13.1\n",
      "Numpy: 1.26.4\n",
      "Matplotlib: 3.8.4\n",
      "Pandas: 2.2.2\n",
      "Scikit-Learn: 1.4.2\n"
     ]
    }
   ],
   "source": [
    "# Python\n",
    "import sys\n",
    "print('Python: {}'.format(sys.version))\n",
    "\n",
    "# Scipy\n",
    "import scipy\n",
    "print('Scipy : {}'.format(scipy.__version__))\n",
    "\n",
    "# Numpy\n",
    "import numpy\n",
    "print('Numpy: {}'.format(numpy.__version__))\n",
    "\n",
    "# Matplotlib\n",
    "import matplotlib\n",
    "print('Matplotlib: {}'.format(matplotlib.__version__))\n",
    "\n",
    "# Pandas\n",
    "import pandas\n",
    "print('Pandas: {}'.format(pandas.__version__))\n",
    "\n",
    "# Scikit-Learn\n",
    "import sklearn\n",
    "print('Scikit-Learn: {}'.format(sklearn.__version__))"
   ]
  }
 ],
 "metadata": {
  "kernelspec": {
   "display_name": "Python 3 (ipykernel)",
   "language": "python",
   "name": "python3"
  },
  "language_info": {
   "codemirror_mode": {
    "name": "ipython",
    "version": 3
   },
   "file_extension": ".py",
   "mimetype": "text/x-python",
   "name": "python",
   "nbconvert_exporter": "python",
   "pygments_lexer": "ipython3",
   "version": "3.12.4"
  }
 },
 "nbformat": 4,
 "nbformat_minor": 5
}
